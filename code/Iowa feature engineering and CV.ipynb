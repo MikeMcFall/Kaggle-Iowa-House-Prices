{
 "cells": [
  {
   "cell_type": "code",
   "execution_count": 1,
   "metadata": {},
   "outputs": [],
   "source": [
    "import numpy as np\n",
    "import pandas as pd\n",
    "import matplotlib.pyplot as plt\n",
    "import seaborn as sns\n",
    "import csv\n",
    "from sklearn.preprocessing import PowerTransformer\n",
    "from sklearn.ensemble import GradientBoostingRegressor\n",
    "\n",
    "pd.options.display.max_rows = 20\n",
    "pd.options.display.max_columns = 100\n",
    "\n",
    "train_data_file = '../input/train.csv'\n",
    "type_dictionary = '../input/data_types.csv'\n",
    "test_data_file = '../input/test.csv'"
   ]
  },
  {
   "cell_type": "code",
   "execution_count": 2,
   "metadata": {},
   "outputs": [],
   "source": [
    "type_dict = {}\n",
    "with open(type_dictionary) as f:\n",
    "    reader = csv.reader(f)\n",
    "    for row in reader:\n",
    "        type_dict[row[0]] = row[1]"
   ]
  },
  {
   "cell_type": "code",
   "execution_count": 3,
   "metadata": {},
   "outputs": [],
   "source": [
    "train = pd.read_csv(train_data_file, dtype=type_dict)\n",
    "train_raw = train.copy()\n",
    "train_id = train.Id\n",
    "train.drop(columns='Id', inplace=True)"
   ]
  },
  {
   "cell_type": "code",
   "execution_count": 4,
   "metadata": {},
   "outputs": [],
   "source": [
    "test = pd.read_csv(test_data_file, dtype=type_dict)\n",
    "test_raw = test.copy()\n",
    "test_id = test.Id\n",
    "test.drop(columns='Id', inplace=True)"
   ]
  },
  {
   "cell_type": "code",
   "execution_count": 5,
   "metadata": {},
   "outputs": [],
   "source": [
    "def fill_missing_data(dfin):\n",
    "    df = dfin.copy()\n",
    "    categoricals = ['PoolQC','MiscFeature','Alley','Fence','FireplaceQu',\n",
    "                    'GarageCond','GarageType','GarageFinish','GarageQual',\n",
    "                   'BsmtExposure','BsmtFinType2','BsmtFinType1','BsmtCond','BsmtQual']\n",
    "    for column in categoricals:\n",
    "        df.loc[:,column].cat.add_categories(['None'], inplace=True)\n",
    "        df.loc[:,column].fillna('None', inplace=True)\n",
    "    df.MasVnrType.fillna('None', inplace=True)\n",
    "    \n",
    "    floats = ['BsmtFinSF1', 'BsmtFinSF2', 'BsmtFullBath', 'BsmtHalfBath','BsmtUnfSF',\n",
    "              'GarageArea', 'GarageCars', 'TotalBsmtSF','MasVnrArea']\n",
    "    for column in floats:\n",
    "        df.loc[:,column].fillna(0, inplace=True)\n",
    "        \n",
    "    df.Exterior1st.fillna('VinylSd', inplace=True)\n",
    "    df.Exterior2nd.fillna('VinylSd', inplace=True)\n",
    "    df.Functional.fillna('Typ', inplace=True)\n",
    "    df.KitchenQual.fillna('TA', inplace=True)\n",
    "    df.MSZoning.fillna('RL', inplace=True)\n",
    "    df.SaleType.fillna('WD', inplace=True)\n",
    "    df.Utilities.fillna('AllPub', inplace=True)\n",
    "    df.Electrical.fillna('SBrkr', inplace=True)\n",
    "    \n",
    "    df.LotFrontage.fillna(df.LotFrontage.median(), inplace=True)\n",
    "    df.GarageYrBlt.fillna(9999, inplace=True)\n",
    "    \n",
    "    return df"
   ]
  },
  {
   "cell_type": "code",
   "execution_count": 6,
   "metadata": {},
   "outputs": [],
   "source": [
    "def clean_categoricals(dfin):\n",
    "    df = dfin.copy()\n",
    "    \n",
    "    #This will set the proper order for all of the ordinal variables\n",
    "    df.BsmtCond.cat.set_categories(['None','Po','Fa','TA','Gd','Ex'], ordered=True, inplace=True)\n",
    "    df.BsmtExposure.cat.set_categories(['None','No','Mn','Av','Gd'], ordered=True, inplace=True)\n",
    "    df.BsmtFinType1.cat.set_categories(['None','Unf','LwQ','Rec','BLQ','ALQ','GLQ'], ordered=True, inplace=True)\n",
    "    df.BsmtFinType2.cat.set_categories(['None','Unf','LwQ','Rec','BLQ','ALQ','GLQ'], ordered=True, inplace=True)\n",
    "    df.BsmtQual.cat.set_categories(['None','Po','Fa','TA','Gd','Ex'], ordered=True, inplace=True)\n",
    "    df.Electrical.cat.set_categories(['Mix','FuseP','FuseF','FuseA','SBrkr'], ordered=True, inplace=True)\n",
    "    df.ExterCond.cat.set_categories(['Po','Fa','TA','Gd','Ex'], ordered=True, inplace=True)\n",
    "    df.ExterQual.cat.set_categories(['Po','Fa','TA','Gd','Ex'], ordered=True, inplace=True)\n",
    "    df.Fence.cat.set_categories(['None','MnWw','GdWo','MnPrv','GdPrv'], ordered=True, inplace=True)\n",
    "    df.FireplaceQu.cat.set_categories(['None','Po','Fa','TA','Gd','Ex'], ordered=True, inplace=True)\n",
    "    df.Functional.cat.set_categories(['Sal','Sev','Maj2','Maj1','Mod','Min2','Min1','Typ'], ordered=True, inplace=True)\n",
    "    df.GarageCond.cat.set_categories(['None','Po','Fa','TA','Gd','Ex'], ordered=True, inplace=True)\n",
    "    df.GarageFinish.cat.set_categories(['None','Unf','RFn','Fin'], ordered=True, inplace=True)\n",
    "    df.GarageQual.cat.set_categories(['None','Po','Fa','TA','Gd','Ex'], ordered=True, inplace=True)\n",
    "    df.HeatingQC.cat.set_categories(['Po','Fa','TA','Gd','Ex'], ordered=True, inplace=True)\n",
    "    df.KitchenQual.cat.set_categories(['Po','Fa','TA','Gd','Ex'], ordered=True, inplace=True)\n",
    "    df.LandSlope.cat.set_categories(['Sev','Mod','Gtl'], ordered=True, inplace=True)\n",
    "    df.LotShape.cat.set_categories(['Reg','IR1','IR2','IR3'], ordered=True, inplace=True)\n",
    "    df.OverallCond.cat.set_categories(['1','2','3','4','5','6','7','8','9','10'], ordered=True, inplace=True)\n",
    "    df.OverallQual.cat.set_categories(['1','2','3','4','5','6','7','8','9','10'], ordered=True, inplace=True)\n",
    "    df.PavedDrive.cat.set_categories(['N','P','Y'], ordered=True, inplace=True)\n",
    "    df.PoolQC.cat.set_categories(['None','Fa','TA','Gd','Ex'], ordered=True, inplace=True)\n",
    "    df.Utilities.cat.set_categories(['ELO','NoSeWa','NoSewr','AllPub'], ordered=True, inplace=True)\n",
    "    \n",
    "    # This will set which categories from the nominal variables will be used (NaNs are created)\n",
    "    df.MSSubClass.cat.set_categories(['20','50','60','Other'], inplace=True)\n",
    "    df.MSZoning.cat.set_categories(['RL','RM','Other'], inplace=True)\n",
    "    df.LandContour.cat.set_categories(['Lvl','Other'], inplace=True)\n",
    "    df.LotConfig.cat.set_categories(['Inside','Other'], inplace=True)\n",
    "    df.Condition1.cat.set_categories(['Artery', 'Feedr', 'Norm', 'PosA', 'PosN','Other'], inplace=True)\n",
    "    df.Condition2.cat.set_categories(['Norm','Other'], inplace=True)\n",
    "    df.BldgType.cat.set_categories(['1Fam','Other'], inplace=True)\n",
    "    df.HouseStyle.cat.set_categories(['1.5Fin', '1Story', '2Story', 'SLvl', 'Other'], inplace=True)\n",
    "    df.RoofStyle.cat.set_categories(['Gable','Flat','Hip','Other'], inplace=True)\n",
    "    df.RoofMatl.cat.set_categories(['CompShg','Other'], inplace=True)\n",
    "    df.Exterior1st.cat.set_categories(['AsbShng', 'AsphShn', 'BrkComm', 'BrkFace', 'CBlock', 'CemntBd',\n",
    "       'HdBoard', 'ImStucc', 'MetalSd', 'Plywood', 'Stone', 'Stucco',\n",
    "       'VinylSd', 'Wd Sdng', 'WdShing'], inplace=True)\n",
    "    df.Exterior2nd.cat.set_categories(['AsbShng', 'AsphShn', 'BrkComm', 'BrkFace', 'CBlock', 'CemntBd',\n",
    "       'HdBoard', 'ImStucc', 'MetalSd', 'Plywood', 'Stone', 'Stucco',\n",
    "       'VinylSd', 'Wd Sdng', 'WdShing'], inplace=True)\n",
    "    df.Heating.cat.set_categories(['Floor', 'GasA', 'Other'], inplace=True)\n",
    "    df.GarageType.cat.set_categories(['Attchd','Detchd','None','Other'], inplace=True)\n",
    "    df.SaleCondition.cat.set_categories(['Normal','Other'], inplace=True)\n",
    "    \n",
    "    #This fills the NaNs into the recently created 'Other' category\n",
    "    others = ['MSSubClass', 'MSZoning', 'LandContour', 'LotConfig', 'Condition1',\n",
    "              'Condition2', 'BldgType', 'HouseStyle', 'RoofStyle', 'RoofMatl',\n",
    "              'Heating', 'GarageType', 'SaleCondition']\n",
    "    for col in others:\n",
    "        df[col].fillna('Other', inplace=True)\n",
    "    \n",
    "    return df"
   ]
  },
  {
   "cell_type": "code",
   "execution_count": 7,
   "metadata": {},
   "outputs": [],
   "source": [
    "def drop_features(dfin):\n",
    "    df = dfin.copy()\n",
    "    columns_to_drop = ['MiscFeature','MiscVal','SaleType','RoofMatl','YearRemodAdd']\n",
    "    return df.drop(columns_to_drop, axis=1)"
   ]
  },
  {
   "cell_type": "code",
   "execution_count": 8,
   "metadata": {},
   "outputs": [],
   "source": [
    "def apply_power_transform(dfin):\n",
    "    df = dfin.copy()\n",
    "    pt = PowerTransformer(copy=False)\n",
    "    floats = df.dtypes=='float64'\n",
    "    data = df.loc[:,floats].values\n",
    "    pt.fit_transform(data)\n",
    "    transformed_data = pd.DataFrame(data, columns=df.loc[:,floats].columns)\n",
    "    for col in transformed_data.columns:\n",
    "        df[col] = transformed_data[col]\n",
    "    return df"
   ]
  },
  {
   "cell_type": "code",
   "execution_count": 9,
   "metadata": {},
   "outputs": [],
   "source": [
    "def all_dummies(df):\n",
    "    dummies = df.copy()\n",
    "    ordinals = ['BsmtCond','BsmtExposure','BsmtFinType1','BsmtFinType2','BsmtQual',\n",
    "               'Electrical','ExterCond','ExterQual','Fence','FireplaceQu',\n",
    "               'Functional','GarageCond','GarageFinish','GarageQual','HeatingQC',\n",
    "               'KitchenQual','LandSlope','LotShape','OverallCond','OverallQual',\n",
    "               'PavedDrive','PoolQC','Utilities']\n",
    "    for col in ordinals:\n",
    "        dummies[col] = dummies[col].cat.codes\n",
    "    return pd.get_dummies(dummies, drop_first=True)"
   ]
  },
  {
   "cell_type": "code",
   "execution_count": 10,
   "metadata": {},
   "outputs": [],
   "source": [
    "def transform_data(dfin):\n",
    "    df = dfin.copy()\n",
    "    df_fill = fill_missing_data(df)\n",
    "    df_ordered = clean_categoricals(df_fill)\n",
    "    df_drop = drop_features(df_ordered)\n",
    "    df_power_transform = apply_power_transform(df_drop)\n",
    "    df_dummies = all_dummies(df_power_transform)\n",
    "    \n",
    "    return df_dummies"
   ]
  },
  {
   "cell_type": "code",
   "execution_count": 11,
   "metadata": {},
   "outputs": [],
   "source": [
    "def fit_predict(regressor, X_train, Y_train, X_test, rname):\n",
    "    regressor.fit(X_train, Y_train)\n",
    "    Y_pred = regressor.predict(X_test)\n",
    "    submission = pd.DataFrame({'Id':test_id.astype(int), 'SalePrice':Y_pred})\n",
    "    submission.to_csv(\"../output/\" + rname + \".csv\", index=False)"
   ]
  },
  {
   "cell_type": "code",
   "execution_count": 12,
   "metadata": {},
   "outputs": [],
   "source": [
    "X_train = train.iloc[:,:-1]\n",
    "Y_train = train.iloc[:,-1]\n",
    "X_train_clean = transform_data(X_train)\n",
    "test_clean = transform_data(test)"
   ]
  },
  {
   "cell_type": "code",
   "execution_count": 13,
   "metadata": {},
   "outputs": [],
   "source": [
    "grad_boost_ls = GradientBoostingRegressor(loss='ls', n_estimators=500)\n",
    "fit_predict(grad_boost_ls, X_train_clean, Y_train, test_clean, \"f_grad_boost_ls_500\")"
   ]
  },
  {
   "cell_type": "code",
   "execution_count": 14,
   "metadata": {},
   "outputs": [],
   "source": [
    "features = pd.DataFrame({'Feature':X_train_clean.columns, 'Importance':grad_boost_ls.feature_importances_})\n",
    "features.set_index('Feature', inplace=True)\n",
    "features.sort_index(inplace=True)"
   ]
  },
  {
   "cell_type": "code",
   "execution_count": 15,
   "metadata": {
    "scrolled": true
   },
   "outputs": [
    {
     "data": {
      "text/html": [
       "<div>\n",
       "<style scoped>\n",
       "    .dataframe tbody tr th:only-of-type {\n",
       "        vertical-align: middle;\n",
       "    }\n",
       "\n",
       "    .dataframe tbody tr th {\n",
       "        vertical-align: top;\n",
       "    }\n",
       "\n",
       "    .dataframe thead th {\n",
       "        text-align: right;\n",
       "    }\n",
       "</style>\n",
       "<table border=\"1\" class=\"dataframe\">\n",
       "  <thead>\n",
       "    <tr style=\"text-align: right;\">\n",
       "      <th></th>\n",
       "      <th>Importance</th>\n",
       "    </tr>\n",
       "    <tr>\n",
       "      <th>Feature</th>\n",
       "      <th></th>\n",
       "    </tr>\n",
       "  </thead>\n",
       "  <tbody>\n",
       "    <tr>\n",
       "      <th>OverallQual</th>\n",
       "      <td>4.828121e-01</td>\n",
       "    </tr>\n",
       "    <tr>\n",
       "      <th>GrLivArea</th>\n",
       "      <td>1.219140e-01</td>\n",
       "    </tr>\n",
       "    <tr>\n",
       "      <th>TotalBsmtSF</th>\n",
       "      <td>5.681090e-02</td>\n",
       "    </tr>\n",
       "    <tr>\n",
       "      <th>GarageCars</th>\n",
       "      <td>4.577087e-02</td>\n",
       "    </tr>\n",
       "    <tr>\n",
       "      <th>ExterQual</th>\n",
       "      <td>3.974931e-02</td>\n",
       "    </tr>\n",
       "    <tr>\n",
       "      <th>2ndFlrSF</th>\n",
       "      <td>3.715006e-02</td>\n",
       "    </tr>\n",
       "    <tr>\n",
       "      <th>BsmtFinSF1</th>\n",
       "      <td>3.610363e-02</td>\n",
       "    </tr>\n",
       "    <tr>\n",
       "      <th>KitchenQual</th>\n",
       "      <td>2.437392e-02</td>\n",
       "    </tr>\n",
       "    <tr>\n",
       "      <th>1stFlrSF</th>\n",
       "      <td>1.853468e-02</td>\n",
       "    </tr>\n",
       "    <tr>\n",
       "      <th>LotArea</th>\n",
       "      <td>1.726691e-02</td>\n",
       "    </tr>\n",
       "    <tr>\n",
       "      <th>...</th>\n",
       "      <td>...</td>\n",
       "    </tr>\n",
       "    <tr>\n",
       "      <th>GarageType_Detchd</th>\n",
       "      <td>5.363247e-06</td>\n",
       "    </tr>\n",
       "    <tr>\n",
       "      <th>Exterior1st_Stone</th>\n",
       "      <td>3.027382e-06</td>\n",
       "    </tr>\n",
       "    <tr>\n",
       "      <th>Exterior1st_WdShing</th>\n",
       "      <td>2.854225e-06</td>\n",
       "    </tr>\n",
       "    <tr>\n",
       "      <th>HouseStyle_Other</th>\n",
       "      <td>1.317281e-06</td>\n",
       "    </tr>\n",
       "    <tr>\n",
       "      <th>Exterior1st_AsphShn</th>\n",
       "      <td>9.239536e-07</td>\n",
       "    </tr>\n",
       "    <tr>\n",
       "      <th>HouseStyle_2Story</th>\n",
       "      <td>4.564178e-07</td>\n",
       "    </tr>\n",
       "    <tr>\n",
       "      <th>Heating_Other</th>\n",
       "      <td>3.635644e-07</td>\n",
       "    </tr>\n",
       "    <tr>\n",
       "      <th>Neighborhood_NWAmes</th>\n",
       "      <td>1.542077e-07</td>\n",
       "    </tr>\n",
       "    <tr>\n",
       "      <th>Condition1_Feedr</th>\n",
       "      <td>2.188386e-08</td>\n",
       "    </tr>\n",
       "    <tr>\n",
       "      <th>RoofStyle_Flat</th>\n",
       "      <td>4.431893e-10</td>\n",
       "    </tr>\n",
       "  </tbody>\n",
       "</table>\n",
       "<p>130 rows × 1 columns</p>\n",
       "</div>"
      ],
      "text/plain": [
       "                       Importance\n",
       "Feature                          \n",
       "OverallQual          4.828121e-01\n",
       "GrLivArea            1.219140e-01\n",
       "TotalBsmtSF          5.681090e-02\n",
       "GarageCars           4.577087e-02\n",
       "ExterQual            3.974931e-02\n",
       "2ndFlrSF             3.715006e-02\n",
       "BsmtFinSF1           3.610363e-02\n",
       "KitchenQual          2.437392e-02\n",
       "1stFlrSF             1.853468e-02\n",
       "LotArea              1.726691e-02\n",
       "...                           ...\n",
       "GarageType_Detchd    5.363247e-06\n",
       "Exterior1st_Stone    3.027382e-06\n",
       "Exterior1st_WdShing  2.854225e-06\n",
       "HouseStyle_Other     1.317281e-06\n",
       "Exterior1st_AsphShn  9.239536e-07\n",
       "HouseStyle_2Story    4.564178e-07\n",
       "Heating_Other        3.635644e-07\n",
       "Neighborhood_NWAmes  1.542077e-07\n",
       "Condition1_Feedr     2.188386e-08\n",
       "RoofStyle_Flat       4.431893e-10\n",
       "\n",
       "[130 rows x 1 columns]"
      ]
     },
     "execution_count": 15,
     "metadata": {},
     "output_type": "execute_result"
    }
   ],
   "source": [
    "features.loc[features.Importance>0,:].sort_values(by='Importance', ascending=False)"
   ]
  },
  {
   "cell_type": "code",
   "execution_count": 16,
   "metadata": {
    "scrolled": true
   },
   "outputs": [
    {
     "data": {
      "text/plain": [
       "Index(['Alley_None', 'Exterior1st_CBlock', 'Exterior1st_ImStucc',\n",
       "       'Exterior2nd_BrkComm', 'Exterior2nd_CBlock', 'Exterior2nd_CemntBd',\n",
       "       'Exterior2nd_ImStucc', 'Exterior2nd_Stone', 'Exterior2nd_WdShing',\n",
       "       'Foundation_Slab', 'Foundation_Stone', 'GarageType_None',\n",
       "       'Neighborhood_Blueste', 'Neighborhood_BrDale', 'Neighborhood_NPkVill'],\n",
       "      dtype='object', name='Feature')"
      ]
     },
     "execution_count": 16,
     "metadata": {},
     "output_type": "execute_result"
    }
   ],
   "source": [
    "features.loc[features.Importance==0,:].index"
   ]
  }
 ],
 "metadata": {
  "kernelspec": {
   "display_name": "Python 3",
   "language": "python",
   "name": "python3"
  },
  "language_info": {
   "codemirror_mode": {
    "name": "ipython",
    "version": 3
   },
   "file_extension": ".py",
   "mimetype": "text/x-python",
   "name": "python",
   "nbconvert_exporter": "python",
   "pygments_lexer": "ipython3",
   "version": "3.6.4"
  }
 },
 "nbformat": 4,
 "nbformat_minor": 2
}
