{
 "cells": [
  {
   "cell_type": "code",
   "execution_count": 1,
   "metadata": {},
   "outputs": [],
   "source": [
    "import numpy as np\n",
    "import pandas as pd\n",
    "import matplotlib.pyplot as plt\n",
    "import seaborn as sns\n",
    "import csv\n",
    "from sklearn.ensemble import GradientBoostingRegressor\n",
    "\n",
    "pd.options.display.max_rows = 20\n",
    "pd.options.display.max_columns = 100\n",
    "\n",
    "train_data_file = '../input/train.csv'\n",
    "type_dictionary = '../input/data_types.csv'\n",
    "test_data_file = '../input/test.csv'"
   ]
  },
  {
   "cell_type": "code",
   "execution_count": 2,
   "metadata": {},
   "outputs": [],
   "source": [
    "type_dict = {}\n",
    "with open(type_dictionary) as f:\n",
    "    reader = csv.reader(f)\n",
    "    for row in reader:\n",
    "        type_dict[row[0]] = row[1]"
   ]
  },
  {
   "cell_type": "code",
   "execution_count": 3,
   "metadata": {},
   "outputs": [],
   "source": [
    "train = pd.read_csv(train_data_file, dtype=type_dict)\n",
    "train_raw = train.copy()\n",
    "train_id = train.Id\n",
    "train.drop(columns='Id', inplace=True)"
   ]
  },
  {
   "cell_type": "code",
   "execution_count": 4,
   "metadata": {},
   "outputs": [],
   "source": [
    "test = pd.read_csv(test_data_file, dtype=type_dict)\n",
    "test_raw = test.copy()\n",
    "test_id = test.Id\n",
    "test.drop(columns='Id', inplace=True)"
   ]
  },
  {
   "cell_type": "code",
   "execution_count": 5,
   "metadata": {},
   "outputs": [],
   "source": [
    "def fill_missing_data(dfin):\n",
    "    df = dfin.copy()\n",
    "    categoricals = ['PoolQC','MiscFeature','Alley','Fence','FireplaceQu',\n",
    "                    'GarageCond','GarageType','GarageFinish','GarageQual',\n",
    "                   'BsmtExposure','BsmtFinType2','BsmtFinType1','BsmtCond','BsmtQual']\n",
    "    for column in categoricals:\n",
    "        df.loc[:,column].cat.add_categories(['None'], inplace=True)\n",
    "        df.loc[:,column].fillna('None', inplace=True)\n",
    "    df.MasVnrType.fillna('None', inplace=True)\n",
    "    \n",
    "    floats = ['BsmtFinSF1', 'BsmtFinSF2', 'BsmtFullBath', 'BsmtHalfBath','BsmtUnfSF',\n",
    "              'GarageArea', 'GarageCars', 'TotalBsmtSF','MasVnrArea']\n",
    "    for column in floats:\n",
    "        df.loc[:,column].fillna(0, inplace=True)\n",
    "        \n",
    "    df.Exterior1st.fillna('VinylSd', inplace=True)\n",
    "    df.Exterior2nd.fillna('VinylSd', inplace=True)\n",
    "    df.Functional.fillna('Typ', inplace=True)\n",
    "    df.KitchenQual.fillna('TA', inplace=True)\n",
    "    df.MSZoning.fillna('RL', inplace=True)\n",
    "    df.SaleType.fillna('WD', inplace=True)\n",
    "    df.Utilities.fillna('AllPub', inplace=True)\n",
    "    df.Electrical.fillna('SBrkr', inplace=True)\n",
    "    \n",
    "    df.LotFrontage.fillna(df.LotFrontage.median(), inplace=True)\n",
    "    df.GarageYrBlt.fillna(9999, inplace=True)\n",
    "    \n",
    "    return df"
   ]
  },
  {
   "cell_type": "code",
   "execution_count": 6,
   "metadata": {},
   "outputs": [],
   "source": [
    "def clean_categoricals(dfin):\n",
    "    df = dfin.copy()\n",
    "    \n",
    "    #This will set the proper order for all of the ordinal variables\n",
    "    df.BsmtCond.cat.set_categories(['None','Po','Fa','TA','Gd','Ex'], ordered=True, inplace=True)\n",
    "    df.BsmtExposure.cat.set_categories(['None','No','Mn','Av','Gd'], ordered=True, inplace=True)\n",
    "    df.BsmtFinType1.cat.set_categories(['None','Unf','LwQ','Rec','BLQ','ALQ','GLQ'], ordered=True, inplace=True)\n",
    "    df.BsmtFinType2.cat.set_categories(['None','Unf','LwQ','Rec','BLQ','ALQ','GLQ'], ordered=True, inplace=True)\n",
    "    df.BsmtQual.cat.set_categories(['None','Po','Fa','TA','Gd','Ex'], ordered=True, inplace=True)\n",
    "    df.Electrical.cat.set_categories(['Mix','FuseP','FuseF','FuseA','SBrkr'], ordered=True, inplace=True)\n",
    "    df.ExterCond.cat.set_categories(['Po','Fa','TA','Gd','Ex'], ordered=True, inplace=True)\n",
    "    df.ExterQual.cat.set_categories(['Po','Fa','TA','Gd','Ex'], ordered=True, inplace=True)\n",
    "    df.Fence.cat.set_categories(['None','MnWw','GdWo','MnPrv','GdPrv'], ordered=True, inplace=True)\n",
    "    df.FireplaceQu.cat.set_categories(['None','Po','Fa','TA','Gd','Ex'], ordered=True, inplace=True)\n",
    "    df.Functional.cat.set_categories(['Sal','Sev','Maj2','Maj1','Mod','Min2','Min1','Typ'], ordered=True, inplace=True)\n",
    "    df.GarageCond.cat.set_categories(['None','Po','Fa','TA','Gd','Ex'], ordered=True, inplace=True)\n",
    "    df.GarageFinish.cat.set_categories(['None','Unf','RFn','Fin'], ordered=True, inplace=True)\n",
    "    df.GarageQual.cat.set_categories(['None','Po','Fa','TA','Gd','Ex'], ordered=True, inplace=True)\n",
    "    df.HeatingQC.cat.set_categories(['Po','Fa','TA','Gd','Ex'], ordered=True, inplace=True)\n",
    "    df.KitchenQual.cat.set_categories(['Po','Fa','TA','Gd','Ex'], ordered=True, inplace=True)\n",
    "    df.LandSlope.cat.set_categories(['Sev','Mod','Gtl'], ordered=True, inplace=True)\n",
    "    df.LotShape.cat.set_categories(['Reg','IR1','IR2','IR3'], ordered=True, inplace=True)\n",
    "    df.OverallCond.cat.set_categories(['1','2','3','4','5','6','7','8','9','10'], ordered=True, inplace=True)\n",
    "    df.OverallQual.cat.set_categories(['1','2','3','4','5','6','7','8','9','10'], ordered=True, inplace=True)\n",
    "    df.PavedDrive.cat.set_categories(['N','P','Y'], ordered=True, inplace=True)\n",
    "    df.PoolQC.cat.set_categories(['None','Fa','TA','Gd','Ex'], ordered=True, inplace=True)\n",
    "    df.Utilities.cat.set_categories(['ELO','NoSeWa','NoSewr','AllPub'], ordered=True, inplace=True)\n",
    "    \n",
    "    # This will set which categories from the nominal variables will be used (NaNs are created)\n",
    "    df.MSSubClass.cat.set_categories(['20','50','60','Other'], inplace=True)\n",
    "    df.MSZoning.cat.set_categories(['RL','RM','Other'], inplace=True)\n",
    "    df.LandContour.cat.set_categories(['Lvl','Other'], inplace=True)\n",
    "    df.LotConfig.cat.set_categories(['Inside','Other'], inplace=True)\n",
    "    df.Condition1.cat.set_categories(['Artery', 'Feedr', 'Norm', 'PosA', 'PosN','Other'], inplace=True)\n",
    "    df.Condition2.cat.set_categories(['Norm','Other'], inplace=True)\n",
    "    df.BldgType.cat.set_categories(['1Fam','Other'], inplace=True)\n",
    "    df.HouseStyle.cat.set_categories(['1.5Fin', '1Story', '2Story', 'SLvl', 'Other'], inplace=True)\n",
    "    df.RoofStyle.cat.set_categories(['Gable','Flat','Hip','Other'], inplace=True)\n",
    "    df.RoofMatl.cat.set_categories(['CompShg','Other'], inplace=True)\n",
    "    df.Exterior1st.cat.set_categories(['AsbShng', 'AsphShn', 'BrkComm', 'BrkFace', 'CBlock', 'CemntBd',\n",
    "       'HdBoard', 'ImStucc', 'MetalSd', 'Plywood', 'Stone', 'Stucco',\n",
    "       'VinylSd', 'Wd Sdng', 'WdShing'], inplace=True)\n",
    "    df.Exterior2nd.cat.set_categories(['AsbShng', 'AsphShn', 'BrkComm', 'BrkFace', 'CBlock', 'CemntBd',\n",
    "       'HdBoard', 'ImStucc', 'MetalSd', 'Plywood', 'Stone', 'Stucco',\n",
    "       'VinylSd', 'Wd Sdng', 'WdShing'], inplace=True)\n",
    "    df.Heating.cat.set_categories(['Floor', 'GasA', 'Other'], inplace=True)\n",
    "    df.GarageType.cat.set_categories(['Attchd','Detchd','None','Other'], inplace=True)\n",
    "    df.SaleCondition.cat.set_categories(['Normal','Other'], inplace=True)\n",
    "    \n",
    "    #This fills the NaNs into the recently created 'Other' category\n",
    "    others = ['MSSubClass', 'MSZoning', 'LandContour', 'LotConfig', 'Condition1',\n",
    "              'Condition2', 'BldgType', 'HouseStyle', 'RoofStyle', 'RoofMatl',\n",
    "              'Heating', 'GarageType', 'SaleCondition']\n",
    "    for col in others:\n",
    "        df[col].fillna('Other', inplace=True)\n",
    "    \n",
    "    return df"
   ]
  },
  {
   "cell_type": "code",
   "execution_count": 7,
   "metadata": {},
   "outputs": [],
   "source": [
    "def all_dummies(df):\n",
    "    dummies = df.copy()\n",
    "    ordinals = ['BsmtCond','BsmtExposure','BsmtFinType1','BsmtFinType2','BsmtQual',\n",
    "               'Electrical','ExterCond','ExterQual','Fence','FireplaceQu',\n",
    "               'Functional','GarageCond','GarageFinish','GarageQual','HeatingQC',\n",
    "               'KitchenQual','LandSlope','LotShape','OverallCond','OverallQual',\n",
    "               'PavedDrive','PoolQC','Utilities']\n",
    "    for col in ordinals:\n",
    "        dummies[col] = dummies[col].cat.codes\n",
    "    return pd.get_dummies(dummies, drop_first=True)"
   ]
  },
  {
   "cell_type": "code",
   "execution_count": 11,
   "metadata": {},
   "outputs": [],
   "source": [
    "def transform_data(dfin):\n",
    "    df = dfin.copy()\n",
    "    df_fill = fill_missing_data(df)\n",
    "    df_ordered = clean_categoricals(df_fill)\n",
    "    df_drop = df_ordered.drop(['MiscFeature','MiscVal','SaleType','RoofMatl'], axis=1)\n",
    "    df_dummies = all_dummies(df_drop)\n",
    "    \n",
    "    return df_dummies"
   ]
  },
  {
   "cell_type": "code",
   "execution_count": 9,
   "metadata": {},
   "outputs": [],
   "source": [
    "def fit_predict(regressor, X_train, Y_train, X_test, rname):\n",
    "    regressor.fit(X_train, Y_train)\n",
    "    Y_pred = regressor.predict(X_test)\n",
    "    submission = pd.DataFrame({'Id':test_id.astype(int), 'SalePrice':Y_pred})\n",
    "    submission.to_csv(\"../output/\" + rname + \".csv\", index=False)"
   ]
  },
  {
   "cell_type": "code",
   "execution_count": 12,
   "metadata": {},
   "outputs": [],
   "source": [
    "X_train = train.iloc[:,:-1]\n",
    "Y_train = train.iloc[:,-1]\n",
    "X_train_clean = transform_data(X_train)\n",
    "test_clean = transform_data(test)"
   ]
  },
  {
   "cell_type": "code",
   "execution_count": 13,
   "metadata": {},
   "outputs": [],
   "source": [
    "grad_boost_ls = GradientBoostingRegressor(loss='ls', n_estimators=500)\n",
    "fit_predict(grad_boost_ls, X_train_clean, Y_train, test_clean, \"f_grad_boost_ls_500\")"
   ]
  },
  {
   "cell_type": "code",
   "execution_count": null,
   "metadata": {},
   "outputs": [],
   "source": [
    "features = pd.DataFrame({'Feature':X_train_clean.columns, 'Importance':grad_boost_ls.feature_importances_})\n",
    "features.set_index('Feature', inplace=True)\n",
    "features.sort_index(inplace=True)"
   ]
  },
  {
   "cell_type": "code",
   "execution_count": null,
   "metadata": {
    "scrolled": true
   },
   "outputs": [],
   "source": [
    "features.loc[features.Importance>0,:].sort_values(by='Importance', ascending=False)"
   ]
  },
  {
   "cell_type": "code",
   "execution_count": null,
   "metadata": {},
   "outputs": [],
   "source": [
    "features.loc[features.Importance==0,:].index"
   ]
  },
  {
   "cell_type": "code",
   "execution_count": null,
   "metadata": {},
   "outputs": [],
   "source": []
  }
 ],
 "metadata": {
  "kernelspec": {
   "display_name": "Python 3",
   "language": "python",
   "name": "python3"
  },
  "language_info": {
   "codemirror_mode": {
    "name": "ipython",
    "version": 3
   },
   "file_extension": ".py",
   "mimetype": "text/x-python",
   "name": "python",
   "nbconvert_exporter": "python",
   "pygments_lexer": "ipython3",
   "version": "3.6.4"
  }
 },
 "nbformat": 4,
 "nbformat_minor": 2
}
