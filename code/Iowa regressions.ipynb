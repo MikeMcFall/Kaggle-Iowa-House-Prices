{
 "cells": [
  {
   "cell_type": "code",
   "execution_count": 1,
   "metadata": {},
   "outputs": [],
   "source": [
    "import numpy as np\n",
    "import pandas as pd\n",
    "import matplotlib.pyplot as plt\n",
    "import seaborn as sns\n",
    "import csv\n",
    "\n",
    "from sklearn.linear_model import LinearRegression\n",
    "from sklearn.linear_model import Ridge\n",
    "from sklearn.linear_model import Lasso\n",
    "from sklearn.linear_model import ElasticNet\n",
    "from sklearn.linear_model import ElasticNetCV\n",
    "from sklearn.ensemble import RandomForestRegressor\n",
    "from sklearn.ensemble import GradientBoostingRegressor\n",
    "from sklearn.ensemble import AdaBoostRegressor\n",
    "\n",
    "\n",
    "pd.options.display.max_rows = 20\n",
    "pd.options.display.max_columns = 100\n",
    "\n",
    "train_data_file = '../input/train.csv'\n",
    "type_dictionary = '../input/data_types.csv'\n",
    "test_data_file = '../input/test.csv'"
   ]
  },
  {
   "cell_type": "code",
   "execution_count": 2,
   "metadata": {},
   "outputs": [],
   "source": [
    "type_dict = {}\n",
    "with open(type_dictionary) as f:\n",
    "    reader = csv.reader(f)\n",
    "    for row in reader:\n",
    "        type_dict[row[0]] = row[1]"
   ]
  },
  {
   "cell_type": "code",
   "execution_count": 3,
   "metadata": {},
   "outputs": [],
   "source": [
    "train = pd.read_csv(train_data_file, dtype=type_dict)\n",
    "train_raw = train.copy()\n",
    "train_id = train.Id\n",
    "train.drop(columns='Id', inplace=True)"
   ]
  },
  {
   "cell_type": "code",
   "execution_count": 4,
   "metadata": {},
   "outputs": [],
   "source": [
    "test = pd.read_csv(test_data_file, dtype=type_dict)\n",
    "test_raw = test.copy()\n",
    "test_id = test.Id\n",
    "test.drop(columns='Id', inplace=True)"
   ]
  },
  {
   "cell_type": "code",
   "execution_count": 5,
   "metadata": {},
   "outputs": [],
   "source": [
    "def fill_missing_data(dfin):\n",
    "    df = dfin.copy()\n",
    "    categoricals = ['PoolQC','MiscFeature','Alley','Fence','FireplaceQu',\n",
    "                    'GarageCond','GarageType','GarageFinish','GarageQual',\n",
    "                   'BsmtExposure','BsmtFinType2','BsmtFinType1','BsmtCond','BsmtQual']\n",
    "    for column in categoricals:\n",
    "        df.loc[:,column].cat.add_categories(['None'], inplace=True)\n",
    "        df.loc[:,column].fillna('None', inplace=True)\n",
    "    df.MasVnrType.fillna('None', inplace=True)\n",
    "    \n",
    "    floats = ['BsmtFinSF1', 'BsmtFinSF2', 'BsmtFullBath', 'BsmtHalfBath','BsmtUnfSF',\n",
    "              'GarageArea', 'GarageCars', 'TotalBsmtSF','MasVnrArea']\n",
    "    for column in floats:\n",
    "        df.loc[:,column].fillna(0, inplace=True)\n",
    "        \n",
    "    df.Exterior1st.fillna('VinylSd', inplace=True)\n",
    "    df.Exterior2nd.fillna('VinylSd', inplace=True)\n",
    "    df.Functional.fillna('Typ', inplace=True)\n",
    "    df.KitchenQual.fillna('TA', inplace=True)\n",
    "    df.MSZoning.fillna('RL', inplace=True)\n",
    "    df.SaleType.fillna('WD', inplace=True)\n",
    "    df.Utilities.fillna('AllPub', inplace=True)\n",
    "    df.Electrical.fillna('SBrkr', inplace=True)\n",
    "    \n",
    "    df.LotFrontage.fillna(df.LotFrontage.median(), inplace=True)\n",
    "    df.GarageYrBlt.fillna(9999, inplace=True)\n",
    "    \n",
    "    return df"
   ]
  },
  {
   "cell_type": "code",
   "execution_count": 6,
   "metadata": {},
   "outputs": [],
   "source": [
    "def clean_categoricals(dfin):\n",
    "    df = dfin.copy()\n",
    "    df.BsmtCond.cat.set_categories(['None','Po','Fa','TA','Gd','Ex'], ordered=True, inplace=True)\n",
    "    df.BsmtExposure.cat.set_categories(['None','No','Mn','Av','Gd'], ordered=True, inplace=True)\n",
    "    df.BsmtFinType1.cat.set_categories(['None','Unf','LwQ','Rec','BLQ','ALQ','GLQ'], ordered=True, inplace=True)\n",
    "    df.BsmtFinType2.cat.set_categories(['None','Unf','LwQ','Rec','BLQ','ALQ','GLQ'], ordered=True, inplace=True)\n",
    "    df.BsmtQual.cat.set_categories(['None','Po','Fa','TA','Gd','Ex'], ordered=True, inplace=True)\n",
    "    df.Electrical.cat.set_categories(['Mix','FuseP','FuseF','FuseA','SBrkr'], ordered=True, inplace=True)\n",
    "    df.ExterCond.cat.set_categories(['Po','Fa','TA','Gd','Ex'], ordered=True, inplace=True)\n",
    "    df.ExterQual.cat.set_categories(['Po','Fa','TA','Gd','Ex'], ordered=True, inplace=True)\n",
    "    df.Fence.cat.set_categories(['None','MnWw','GdWo','MnPrv','GdPrv'], ordered=True, inplace=True)\n",
    "    df.FireplaceQu.cat.set_categories(['None','Po','Fa','TA','Gd','Ex'], ordered=True, inplace=True)\n",
    "    df.Functional.cat.set_categories(['Sal','Sev','Maj2','Maj1','Mod','Min2','Min1','Typ'], ordered=True, inplace=True)\n",
    "    df.GarageCond.cat.set_categories(['None','Po','Fa','TA','Gd','Ex'], ordered=True, inplace=True)\n",
    "    df.GarageFinish.cat.set_categories(['None','Unf','RFn','Fin'], ordered=True, inplace=True)\n",
    "    df.GarageQual.cat.set_categories(['None','Po','Fa','TA','Gd','Ex'], ordered=True, inplace=True)\n",
    "    df.HeatingQC.cat.set_categories(['Po','Fa','TA','Gd','Ex'], ordered=True, inplace=True)\n",
    "    df.KitchenQual.cat.set_categories(['Po','Fa','TA','Gd','Ex'], ordered=True, inplace=True)\n",
    "    df.LandSlope.cat.set_categories(['Sev','Mod','Gtl'], ordered=True, inplace=True)\n",
    "    df.LotShape.cat.set_categories(['Reg','IR1','IR2','IR3'], ordered=True, inplace=True)\n",
    "    df.OverallCond.cat.set_categories(['1','2','3','4','5','6','7','8','9','10'], ordered=True, inplace=True)\n",
    "    df.OverallQual.cat.set_categories(['1','2','3','4','5','6','7','8','9','10'], ordered=True, inplace=True)\n",
    "    df.PavedDrive.cat.set_categories(['N','P','Y'], ordered=True, inplace=True)\n",
    "    df.PoolQC.cat.set_categories(['None','Fa','TA','Gd','Ex'], ordered=True, inplace=True)\n",
    "    df.Utilities.cat.set_categories(['ELO','NoSeWa','NoSewr','AllPub'], ordered=True, inplace=True)\n",
    "    \n",
    "    df.Condition2.cat.set_categories(['Artery', 'Feedr', 'Norm', 'PosA', 'PosN', 'RRAe', 'RRAn', 'RRNn'], inplace=True)\n",
    "    df.Exterior1st.cat.set_categories(['AsbShng', 'AsphShn', 'BrkComm', 'BrkFace', 'CBlock', 'CemntBd',\n",
    "       'HdBoard', 'ImStucc', 'MetalSd', 'Plywood', 'Stone', 'Stucco',\n",
    "       'VinylSd', 'Wd Sdng', 'WdShing'], inplace=True)\n",
    "    df.Exterior2nd.cat.set_categories(['AsbShng', 'AsphShn', 'BrkComm', 'BrkFace', 'CBlock', 'CemntBd',\n",
    "       'HdBoard', 'ImStucc', 'MetalSd', 'Plywood', 'Stone', 'Stucco',\n",
    "       'VinylSd', 'Wd Sdng', 'WdShing'], inplace=True)\n",
    "    df.Heating.cat.set_categories(['Floor', 'GasA', 'GasW', 'Grav', 'OthW', 'Wall'], inplace=True)\n",
    "    df.HouseStyle.cat.set_categories(['1.5Fin', '1.5Unf', '1Story', '2.5Fin', '2.5Unf', '2Story', 'SFoyer',\n",
    "       'SLvl'], inplace=True)\n",
    "    df.MiscFeature.cat.set_categories(['Gar2', 'Othr', 'Shed', 'TenC'], inplace=True)\n",
    "    df.RoofMatl.cat.set_categories(['ClyTile', 'CompShg', 'Membran', 'Metal', 'Roll', 'Tar&Grv', 'WdShake',\n",
    "       'WdShngl'], inplace=True)\n",
    "    df.MSSubClass.cat.set_categories(['120', '150', '160', '180', '190', '20', '30', '40', '45', '50', '60',\n",
    "       '70', '75', '80', '85', '90'], inplace=True)\n",
    "    \n",
    "    return df"
   ]
  },
  {
   "cell_type": "code",
   "execution_count": 7,
   "metadata": {},
   "outputs": [],
   "source": [
    "def all_dummies(df):\n",
    "    dummies = df.copy()\n",
    "    ordinals = ['BsmtCond','BsmtExposure','BsmtFinType1','BsmtFinType2','BsmtQual',\n",
    "               'Electrical','ExterCond','ExterQual','Fence','FireplaceQu',\n",
    "               'Functional','GarageCond','GarageFinish','GarageQual','HeatingQC',\n",
    "               'KitchenQual','LandSlope','LotShape','OverallCond','OverallQual',\n",
    "               'PavedDrive','PoolQC','Utilities']\n",
    "    for col in ordinals:\n",
    "        dummies.loc[:,col] = dummies.loc[:,col].cat.codes\n",
    "    return pd.get_dummies(dummies, drop_first=True)"
   ]
  },
  {
   "cell_type": "code",
   "execution_count": 8,
   "metadata": {},
   "outputs": [],
   "source": [
    "def transform_data(dfin):\n",
    "    df = dfin.copy()\n",
    "    df_fill = fill_missing_data(df)\n",
    "    df_ordered = clean_categoricals(df_fill)\n",
    "    df_dummies = all_dummies(df_ordered)\n",
    "    \n",
    "    return df_dummies"
   ]
  },
  {
   "cell_type": "code",
   "execution_count": 9,
   "metadata": {},
   "outputs": [],
   "source": [
    "def fit_predict(regressor, X_train, Y_train, X_test, rname):\n",
    "    regressor.fit(X_train, Y_train)\n",
    "    Y_pred = regressor.predict(X_test)\n",
    "    submission = pd.DataFrame({'Id':test_id.astype(int), 'SalePrice':Y_pred})\n",
    "    submission.to_csv(\"../output/\" + rname + \".csv\", index=False)"
   ]
  },
  {
   "cell_type": "code",
   "execution_count": 10,
   "metadata": {},
   "outputs": [],
   "source": [
    "X_train = train.iloc[:,:-1]\n",
    "Y_train = train.iloc[:,-1]\n",
    "X_train_clean = transform_data(X_train)\n",
    "test_clean = transform_data(test)"
   ]
  },
  {
   "cell_type": "code",
   "execution_count": 11,
   "metadata": {},
   "outputs": [],
   "source": [
    "lin_reg_all = LinearRegression()\n",
    "fit_predict(lin_reg_all, X_train_clean, Y_train, test_clean, \"lin_reg_all\")"
   ]
  },
  {
   "cell_type": "code",
   "execution_count": 12,
   "metadata": {},
   "outputs": [],
   "source": [
    "lin_reg_top = LinearRegression()\n",
    "top_predictors = [\"GrLivArea\",\"GarageArea\",\"FullBath\",\"YearBuilt\"]\n",
    "fit_predict(lin_reg_top, X_train_clean[top_predictors], Y_train, test_clean[top_predictors], \"lin_reg_top\")"
   ]
  },
  {
   "cell_type": "code",
   "execution_count": 13,
   "metadata": {},
   "outputs": [],
   "source": [
    "ridge_reg = Ridge()\n",
    "fit_predict(ridge_reg, X_train_clean, Y_train, test_clean, \"ridge_reg\")"
   ]
  },
  {
   "cell_type": "code",
   "execution_count": 14,
   "metadata": {},
   "outputs": [],
   "source": [
    "lasso_reg = Lasso(max_iter=1e5)\n",
    "fit_predict(lasso_reg, X_train_clean, Y_train, test_clean, \"lasso_reg\")"
   ]
  },
  {
   "cell_type": "code",
   "execution_count": 15,
   "metadata": {},
   "outputs": [],
   "source": [
    "elastic_net = ElasticNet(max_iter=1e6)\n",
    "fit_predict(elastic_net, X_train_clean, Y_train, test_clean, \"elsatic_net\")"
   ]
  },
  {
   "cell_type": "code",
   "execution_count": 16,
   "metadata": {},
   "outputs": [],
   "source": [
    "random_forest = RandomForestRegressor(n_estimators=100, n_jobs=-1)\n",
    "fit_predict(random_forest, X_train_clean, Y_train, test_clean, \"random_forest\")"
   ]
  },
  {
   "cell_type": "code",
   "execution_count": 17,
   "metadata": {},
   "outputs": [],
   "source": [
    "grad_boost_ls = GradientBoostingRegressor(loss='ls', n_estimators=200)\n",
    "fit_predict(grad_boost_ls, X_train_clean, Y_train, test_clean, \"grad_boost_ls\")"
   ]
  },
  {
   "cell_type": "code",
   "execution_count": 18,
   "metadata": {},
   "outputs": [],
   "source": [
    "features = pd.DataFrame({'Feature':X_train_clean.columns, 'Importance':grad_boost_ls.feature_importances_})"
   ]
  },
  {
   "cell_type": "code",
   "execution_count": 19,
   "metadata": {
    "scrolled": true
   },
   "outputs": [
    {
     "data": {
      "text/html": [
       "<div>\n",
       "<style scoped>\n",
       "    .dataframe tbody tr th:only-of-type {\n",
       "        vertical-align: middle;\n",
       "    }\n",
       "\n",
       "    .dataframe tbody tr th {\n",
       "        vertical-align: top;\n",
       "    }\n",
       "\n",
       "    .dataframe thead th {\n",
       "        text-align: right;\n",
       "    }\n",
       "</style>\n",
       "<table border=\"1\" class=\"dataframe\">\n",
       "  <thead>\n",
       "    <tr style=\"text-align: right;\">\n",
       "      <th></th>\n",
       "      <th>Feature</th>\n",
       "      <th>Importance</th>\n",
       "    </tr>\n",
       "  </thead>\n",
       "  <tbody>\n",
       "    <tr>\n",
       "      <th>26</th>\n",
       "      <td>GrLivArea</td>\n",
       "      <td>0.078189</td>\n",
       "    </tr>\n",
       "    <tr>\n",
       "      <th>5</th>\n",
       "      <td>OverallQual</td>\n",
       "      <td>0.062102</td>\n",
       "    </tr>\n",
       "    <tr>\n",
       "      <th>19</th>\n",
       "      <td>BsmtUnfSF</td>\n",
       "      <td>0.053337</td>\n",
       "    </tr>\n",
       "    <tr>\n",
       "      <th>1</th>\n",
       "      <td>LotArea</td>\n",
       "      <td>0.046231</td>\n",
       "    </tr>\n",
       "    <tr>\n",
       "      <th>41</th>\n",
       "      <td>GarageArea</td>\n",
       "      <td>0.044488</td>\n",
       "    </tr>\n",
       "    <tr>\n",
       "      <th>20</th>\n",
       "      <td>TotalBsmtSF</td>\n",
       "      <td>0.043027</td>\n",
       "    </tr>\n",
       "    <tr>\n",
       "      <th>16</th>\n",
       "      <td>BsmtFinSF1</td>\n",
       "      <td>0.042382</td>\n",
       "    </tr>\n",
       "    <tr>\n",
       "      <th>6</th>\n",
       "      <td>OverallCond</td>\n",
       "      <td>0.034319</td>\n",
       "    </tr>\n",
       "    <tr>\n",
       "      <th>7</th>\n",
       "      <td>YearBuilt</td>\n",
       "      <td>0.032905</td>\n",
       "    </tr>\n",
       "    <tr>\n",
       "      <th>23</th>\n",
       "      <td>1stFlrSF</td>\n",
       "      <td>0.029153</td>\n",
       "    </tr>\n",
       "    <tr>\n",
       "      <th>...</th>\n",
       "      <td>...</td>\n",
       "      <td>...</td>\n",
       "    </tr>\n",
       "    <tr>\n",
       "      <th>28</th>\n",
       "      <td>BsmtHalfBath</td>\n",
       "      <td>0.000231</td>\n",
       "    </tr>\n",
       "    <tr>\n",
       "      <th>101</th>\n",
       "      <td>Neighborhood_OldTown</td>\n",
       "      <td>0.000204</td>\n",
       "    </tr>\n",
       "    <tr>\n",
       "      <th>176</th>\n",
       "      <td>MasVnrType_None</td>\n",
       "      <td>0.000193</td>\n",
       "    </tr>\n",
       "    <tr>\n",
       "      <th>168</th>\n",
       "      <td>Exterior2nd_MetalSd</td>\n",
       "      <td>0.000166</td>\n",
       "    </tr>\n",
       "    <tr>\n",
       "      <th>129</th>\n",
       "      <td>HouseStyle_1Story</td>\n",
       "      <td>0.000161</td>\n",
       "    </tr>\n",
       "    <tr>\n",
       "      <th>198</th>\n",
       "      <td>SaleType_CWD</td>\n",
       "      <td>0.000155</td>\n",
       "    </tr>\n",
       "    <tr>\n",
       "      <th>11</th>\n",
       "      <td>ExterCond</td>\n",
       "      <td>0.000110</td>\n",
       "    </tr>\n",
       "    <tr>\n",
       "      <th>2</th>\n",
       "      <td>LotShape</td>\n",
       "      <td>0.000085</td>\n",
       "    </tr>\n",
       "    <tr>\n",
       "      <th>132</th>\n",
       "      <td>HouseStyle_2Story</td>\n",
       "      <td>0.000025</td>\n",
       "    </tr>\n",
       "    <tr>\n",
       "      <th>191</th>\n",
       "      <td>GarageType_BuiltIn</td>\n",
       "      <td>0.000007</td>\n",
       "    </tr>\n",
       "  </tbody>\n",
       "</table>\n",
       "<p>131 rows × 2 columns</p>\n",
       "</div>"
      ],
      "text/plain": [
       "                  Feature  Importance\n",
       "26              GrLivArea    0.078189\n",
       "5             OverallQual    0.062102\n",
       "19              BsmtUnfSF    0.053337\n",
       "1                 LotArea    0.046231\n",
       "41             GarageArea    0.044488\n",
       "20            TotalBsmtSF    0.043027\n",
       "16             BsmtFinSF1    0.042382\n",
       "6             OverallCond    0.034319\n",
       "7               YearBuilt    0.032905\n",
       "23               1stFlrSF    0.029153\n",
       "..                    ...         ...\n",
       "28           BsmtHalfBath    0.000231\n",
       "101  Neighborhood_OldTown    0.000204\n",
       "176       MasVnrType_None    0.000193\n",
       "168   Exterior2nd_MetalSd    0.000166\n",
       "129     HouseStyle_1Story    0.000161\n",
       "198          SaleType_CWD    0.000155\n",
       "11              ExterCond    0.000110\n",
       "2                LotShape    0.000085\n",
       "132     HouseStyle_2Story    0.000025\n",
       "191    GarageType_BuiltIn    0.000007\n",
       "\n",
       "[131 rows x 2 columns]"
      ]
     },
     "execution_count": 19,
     "metadata": {},
     "output_type": "execute_result"
    }
   ],
   "source": [
    "features.loc[features.Importance>0,:].sort_values(by='Importance', ascending=False)"
   ]
  },
  {
   "cell_type": "code",
   "execution_count": 20,
   "metadata": {},
   "outputs": [],
   "source": [
    "grad_boost_lad = GradientBoostingRegressor(loss='lad', n_estimators=200)\n",
    "fit_predict(grad_boost_lad, X_train_clean, Y_train, test_clean, \"grad_boost_lad\")"
   ]
  },
  {
   "cell_type": "code",
   "execution_count": 21,
   "metadata": {},
   "outputs": [],
   "source": [
    "ada_boost = AdaBoostRegressor(n_estimators=200)\n",
    "fit_predict(ada_boost, X_train_clean, Y_train, test_clean, \"ada_boost\")"
   ]
  }
 ],
 "metadata": {
  "kernelspec": {
   "display_name": "Python 3",
   "language": "python",
   "name": "python3"
  },
  "language_info": {
   "codemirror_mode": {
    "name": "ipython",
    "version": 3
   },
   "file_extension": ".py",
   "mimetype": "text/x-python",
   "name": "python",
   "nbconvert_exporter": "python",
   "pygments_lexer": "ipython3",
   "version": "3.6.4"
  }
 },
 "nbformat": 4,
 "nbformat_minor": 2
}
